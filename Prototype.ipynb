import random

class MathTutoringSystem:
    def __init__(self):
        self.min_range = 1
        self.max_range = 10
        self.current_score = 0
        self.attempts = 0

    def generate_problem(self):
        num1 = random.randint(self.min_range, self.max_range)
        num2 = random.randint(self.min_range, self.max_range)
        return num1, num2

    def ask_question(self):
        num1, num2 = self.generate_problem()
        answer = num1 + num2
        user_answer = int(input(f"What is {num1} + {num2}? "))
        return user_answer == answer

    def provide_explanation(self):
        print("Let me explain that:")
        print("When you add two numbers, you simply combine them.")
        print("In this case, you had to add the given numbers.")
        print("Make sure to double-check your addition.")

    def run_tutoring_session(self):
        print("Welcome to the Math Tutoring System!")
        while True:
            correct = self.ask_question()
            self.attempts += 1

            if correct:
                self.current_score += 1
                print("Correct! Keep it up.")
            else:
                print("Incorrect. Let me help you understand.")
                self.provide_explanation()

            print(f"Current Score: {self.current_score}/{self.attempts}")
            next_question = input("Do you want another question? (yes/no) ").lower()

            if next_question != 'yes':
                print("Thanks for using the Math Tutoring System. Goodbye!")
                break

if __name__ == "__main__":
    tutor = MathTutoringSystem()
    tutor.run_tutoring_session()
